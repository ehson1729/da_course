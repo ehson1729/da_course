{
 "cells": [
  {
   "cell_type": "markdown",
   "id": "5771b31f-6e94-449c-9170-c0c580deaba8",
   "metadata": {},
   "source": [
    "### Домашнее задание по выборочным распределениям.(hypothesis_testing) Ehson Kholzoda"
   ]
  },
  {
   "cell_type": "markdown",
   "id": "adfa49f3-5468-47cb-8b0f-e2617272bc3c",
   "metadata": {},
   "source": [
    "**1.** Производитель светодиодных лампочек заявляет что их продукция имеет средний срок службы в 2000 часов. Клиент считает что срок службы лампочек меньше заявляемого компанией. Чтобы проверить это клиент купил 50 лампочек производства этой компании и их средний срок службы составил 1980 часов, со стандартным отклонением в 66 часов. Проверьте гипотезы и вынесите заключение."
   ]
  },
  {
   "cell_type": "code",
   "execution_count": 3,
   "id": "a0a61a7f-388c-4625-a8c1-1da453851ef6",
   "metadata": {},
   "outputs": [],
   "source": [
    "import numpy as np\n",
    "import pandas as pd\n",
    "from scipy import stats\n",
    "import matplotlib.pyplot as plt\n",
    "import seaborn as sns"
   ]
  },
  {
   "cell_type": "code",
   "execution_count": 83,
   "id": "ba320eeb-12f6-43a5-9279-3500136e4846",
   "metadata": {},
   "outputs": [
    {
     "data": {
      "text/plain": [
       "9.333809511662427"
      ]
     },
     "execution_count": 83,
     "metadata": {},
     "output_type": "execute_result"
    }
   ],
   "source": [
    "mu = 2000\n",
    "\n",
    "#H_a : mu < 2000\n",
    "\n",
    "n = 50 \n",
    "x = 1980\n",
    "s = 66\n",
    "\n",
    "alpha = 0.05\n",
    "\n",
    "se = s / np.sqrt(n)  \n",
    "se"
   ]
  },
  {
   "cell_type": "code",
   "execution_count": 85,
   "id": "5eb56b9c-15c5-42bc-8f63-b664a980443a",
   "metadata": {},
   "outputs": [
    {
     "data": {
      "text/plain": [
       "-2.1427478217774167"
      ]
     },
     "execution_count": 85,
     "metadata": {},
     "output_type": "execute_result"
    }
   ],
   "source": [
    "t = (x - mu) / se\n",
    "t"
   ]
  },
  {
   "cell_type": "code",
   "execution_count": 87,
   "id": "c80e10b8-4e20-4ec8-8975-6308559a7d05",
   "metadata": {},
   "outputs": [
    {
     "data": {
      "text/plain": [
       "0.018563160468127816"
      ]
     },
     "execution_count": 87,
     "metadata": {},
     "output_type": "execute_result"
    }
   ],
   "source": [
    "p_value = stats.t.cdf(x=-2.14275, df=n-1)\n",
    "p_value "
   ]
  },
  {
   "cell_type": "code",
   "execution_count": 40,
   "id": "268132ee-6498-40b0-8685-fa4d10cf7318",
   "metadata": {},
   "outputs": [
    {
     "name": "stdout",
     "output_type": "stream",
     "text": [
      "Отвергаем нулевую гипотезу\n"
     ]
    }
   ],
   "source": [
    "if p_value < alpha:\n",
    "  print(\"Отвергаем нулевую гипотезу\")\n",
    "else:\n",
    "  print(\"Не можем отвергнуть нулевую гипотезу\")"
   ]
  },
  {
   "cell_type": "markdown",
   "id": "2cc3f916-77f7-4ac4-b5ab-e8a904fbd70c",
   "metadata": {},
   "source": [
    " Клиент прав, срок службы лампочек меньше заявляемого компанией"
   ]
  },
  {
   "cell_type": "markdown",
   "id": "5fcc4776-f352-4856-bbc7-e36a3416d9fe",
   "metadata": {},
   "source": [
    "**2.** Фасовочная машина заполняет мешки рисом в среднем по 1000гр на мешок и стандартным отклонением в 5гр. У производителя есть подозрение, что машина фасует рис в среднем больше требуемого. Он поручил сделать выборку из 100 мешков и их средний вес оказался равным 1003гр. Оправданы ли подозрения производителя?"
   ]
  },
  {
   "cell_type": "code",
   "execution_count": 59,
   "id": "41fcaca1-95d5-487e-8087-12056aab905b",
   "metadata": {},
   "outputs": [
    {
     "data": {
      "text/plain": [
       "0.5"
      ]
     },
     "execution_count": 59,
     "metadata": {},
     "output_type": "execute_result"
    }
   ],
   "source": [
    "mu = 1000\n",
    "sigma = 5\n",
    "\n",
    "#H_a : mu > 1000\n",
    "\n",
    "n = 100\n",
    "x = 1003\n",
    "\n",
    "alpha = 0.05\n",
    "\n",
    "se = sigma / np.sqrt(n)  \n",
    "se"
   ]
  },
  {
   "cell_type": "code",
   "execution_count": 61,
   "id": "9d4c9ef0-9ade-46b8-88a1-c66b7f8a4f01",
   "metadata": {},
   "outputs": [
    {
     "data": {
      "text/plain": [
       "6.0"
      ]
     },
     "execution_count": 61,
     "metadata": {},
     "output_type": "execute_result"
    }
   ],
   "source": [
    "z = (x - mu) / se\n",
    "z"
   ]
  },
  {
   "cell_type": "code",
   "execution_count": 63,
   "id": "a7fdcf72-092a-49ec-9892-ae599861cf2e",
   "metadata": {},
   "outputs": [
    {
     "data": {
      "text/plain": [
       "9.865876450376946e-10"
      ]
     },
     "execution_count": 63,
     "metadata": {},
     "output_type": "execute_result"
    }
   ],
   "source": [
    "p_value = stats.norm.sf(z)\n",
    "p_value"
   ]
  },
  {
   "cell_type": "code",
   "execution_count": 65,
   "id": "1fe96933-8acb-4e35-912f-8c60de4ffef5",
   "metadata": {},
   "outputs": [
    {
     "name": "stdout",
     "output_type": "stream",
     "text": [
      "Отвергаем нулевую гипотезу\n"
     ]
    }
   ],
   "source": [
    "if p_value < alpha:\n",
    "  print(\"Отвергаем нулевую гипотезу\")\n",
    "else:\n",
    "  print(\"Не можем отвергнуть нулевую гипотезу\")"
   ]
  },
  {
   "cell_type": "markdown",
   "id": "39c6a124-f06c-4825-a8f7-195103bbd850",
   "metadata": {},
   "source": [
    "Да, подозрения производителя оправданы "
   ]
  },
  {
   "cell_type": "markdown",
   "id": "8e74c243-46ad-46c3-9578-354739d28f64",
   "metadata": {},
   "source": [
    "**3.** Утверждается что домашние коты живут в среднем 15.7 лет. Учёный решил проверить истинность этого утверждения и замерил срок жизни 40 домашних котов в своём городе. Средний срок жизни котов в выборке оказался равным 16.5 годам со стандартным отклонением в 1.6 лет. Значит ли это, что коты в среднем живут дольше чем принято считать?"
   ]
  },
  {
   "cell_type": "code",
   "execution_count": 89,
   "id": "e598780a-cf4c-4995-b4f0-70854922769c",
   "metadata": {},
   "outputs": [
    {
     "data": {
      "text/plain": [
       "0.25298221281347033"
      ]
     },
     "execution_count": 89,
     "metadata": {},
     "output_type": "execute_result"
    }
   ],
   "source": [
    "mu = 15.7 \n",
    "\n",
    "#H_a : mu > 15.7\n",
    "\n",
    "n = 40\n",
    "x = 16.5\n",
    "s = 1.6\n",
    "\n",
    "alpha = 0.05\n",
    "\n",
    "se = s / np.sqrt(n)  \n",
    "se\n"
   ]
  },
  {
   "cell_type": "code",
   "execution_count": 91,
   "id": "a034c532-9452-46d4-a622-01b3c753d2cb",
   "metadata": {},
   "outputs": [
    {
     "data": {
      "text/plain": [
       "3.162277660168382"
      ]
     },
     "execution_count": 91,
     "metadata": {},
     "output_type": "execute_result"
    }
   ],
   "source": [
    "t = (x - mu) / se\n",
    "t"
   ]
  },
  {
   "cell_type": "code",
   "execution_count": 93,
   "id": "5ca2163b-7300-4c61-a288-943adfc75807",
   "metadata": {},
   "outputs": [
    {
     "data": {
      "text/plain": [
       "0.0015137112496894007"
      ]
     },
     "execution_count": 93,
     "metadata": {},
     "output_type": "execute_result"
    }
   ],
   "source": [
    "p_value = stats.t.sf(x=t, df=n-1)\n",
    "p_value "
   ]
  },
  {
   "cell_type": "code",
   "execution_count": 95,
   "id": "7dc36526-acea-4ed4-9bc0-bec374c53afb",
   "metadata": {},
   "outputs": [
    {
     "name": "stdout",
     "output_type": "stream",
     "text": [
      "Отвергаем нулевую гипотезу\n"
     ]
    }
   ],
   "source": [
    "if p_value < alpha:\n",
    "  print(\"Отвергаем нулевую гипотезу\")\n",
    "else:\n",
    "  print(\"Не можем отвергнуть нулевую гипотезу\")"
   ]
  },
  {
   "cell_type": "markdown",
   "id": "04cb6aca-9515-4bc0-bcac-ebd0b9baaf61",
   "metadata": {},
   "source": [
    "Да, это значит, что коты в среднем живут дольше чем принято считать"
   ]
  },
  {
   "cell_type": "markdown",
   "id": "c233ac3b-32fe-4645-aa0a-c55a7bf4977d",
   "metadata": {},
   "source": [
    "**4.** Здоровый новорожденный весит в среднем 3.40кг со стандартным отклонением в 0.45кг. Выборка из 49 новорожденных была взвешена и средний вес оказался равным 3.29кг. Проверьте следующие гипотезы: Ho:μ=7.5 и Ha:μ<7.5"
   ]
  },
  {
   "cell_type": "code",
   "execution_count": 109,
   "id": "b9da10b2-d231-4b4f-8673-a5e43351a9ec",
   "metadata": {},
   "outputs": [
    {
     "data": {
      "text/plain": [
       "0.0642857142857143"
      ]
     },
     "execution_count": 109,
     "metadata": {},
     "output_type": "execute_result"
    }
   ],
   "source": [
    "mu = 3.40\n",
    "sigma = 0.45\n",
    "\n",
    "#H_a : mu < 3.4\n",
    "\n",
    "n = 49 \n",
    "x = 3.29\n",
    "\n",
    "alpha = 0.05\n",
    "\n",
    "se = sigma / np.sqrt(n)  \n",
    "se\n"
   ]
  },
  {
   "cell_type": "code",
   "execution_count": 111,
   "id": "79be7c32-5a20-4ed4-8960-e36e77120465",
   "metadata": {},
   "outputs": [
    {
     "data": {
      "text/plain": [
       "-1.711111111111109"
      ]
     },
     "execution_count": 111,
     "metadata": {},
     "output_type": "execute_result"
    }
   ],
   "source": [
    "z = (x - mu) / se\n",
    "z"
   ]
  },
  {
   "cell_type": "code",
   "execution_count": 113,
   "id": "b985df32-63e0-4fb2-b7ea-9948e1052e2e",
   "metadata": {},
   "outputs": [
    {
     "data": {
      "text/plain": [
       "0.043530301708670324"
      ]
     },
     "execution_count": 113,
     "metadata": {},
     "output_type": "execute_result"
    }
   ],
   "source": [
    "p_value = stats.norm.cdf(z)\n",
    "p_value "
   ]
  },
  {
   "cell_type": "code",
   "execution_count": 115,
   "id": "6ff49dd1-aa68-4b3a-9f5a-d1288635f59e",
   "metadata": {},
   "outputs": [
    {
     "name": "stdout",
     "output_type": "stream",
     "text": [
      "Отвергаем нулевую гипотезу\n"
     ]
    }
   ],
   "source": [
    "if p_value < alpha:\n",
    "  print(\"Отвергаем нулевую гипотезу\")\n",
    "else:\n",
    "  print(\"Не можем отвергнуть нулевую гипотезу\")"
   ]
  },
  {
   "cell_type": "code",
   "execution_count": null,
   "id": "8ce76966-d72d-4b9e-9d77-e45b94e6534e",
   "metadata": {},
   "outputs": [],
   "source": []
  },
  {
   "cell_type": "markdown",
   "id": "a20e1fc9-d409-4c19-9396-8b1f450a022d",
   "metadata": {},
   "source": [
    "**5.** В популяции средний показатель IQ составляет 100 со стандартным отклонением 15. Команда ученых хочет проверить новое лекарство, чтобы выяснить, оказывает ли оно положительное или отрицательное влияние на интеллект, или же не оказывает никакого эффекта. В выборке из 30 участников, которые принимали лекарство, средний показатель IQ составил 140. Повлияло ли лекарство на интеллект?"
   ]
  },
  {
   "cell_type": "code",
   "execution_count": 118,
   "id": "9d2cd914-08b2-4ea6-8200-6bd197d5bbdc",
   "metadata": {},
   "outputs": [
    {
     "data": {
      "text/plain": [
       "2.7386127875258306"
      ]
     },
     "execution_count": 118,
     "metadata": {},
     "output_type": "execute_result"
    }
   ],
   "source": [
    "mu = 100\n",
    "sigma = 15\n",
    "\n",
    "#H_a : mu <>  100\n",
    "\n",
    "n = 30 \n",
    "x = 140\n",
    "\n",
    "alpha = 0.05\n",
    "\n",
    "se = sigma / np.sqrt(n)  \n",
    "se\n"
   ]
  },
  {
   "cell_type": "code",
   "execution_count": 120,
   "id": "2ed9cd0c-d2f8-43e9-baaf-9cdb942775dc",
   "metadata": {},
   "outputs": [
    {
     "data": {
      "text/plain": [
       "14.60593486680443"
      ]
     },
     "execution_count": 120,
     "metadata": {},
     "output_type": "execute_result"
    }
   ],
   "source": [
    "z = (x - mu) / se\n",
    "z"
   ]
  },
  {
   "cell_type": "code",
   "execution_count": 126,
   "id": "c5672f94-0b51-4cda-8185-579d2699581d",
   "metadata": {},
   "outputs": [
    {
     "data": {
      "text/plain": [
       "2.574266663697655e-48"
      ]
     },
     "execution_count": 126,
     "metadata": {},
     "output_type": "execute_result"
    }
   ],
   "source": [
    "p_value = 2 * stats.norm.sf(z)\n",
    "p_value "
   ]
  },
  {
   "cell_type": "code",
   "execution_count": 128,
   "id": "4cd14624-ab7a-4c8a-a970-3c7f4681369f",
   "metadata": {},
   "outputs": [
    {
     "name": "stdout",
     "output_type": "stream",
     "text": [
      "Отвергаем нулевую гипотезу\n"
     ]
    }
   ],
   "source": [
    "if p_value < alpha:\n",
    "  print(\"Отвергаем нулевую гипотезу\")\n",
    "else:\n",
    "  print(\"Не можем отвергнуть нулевую гипотезу\")"
   ]
  },
  {
   "cell_type": "markdown",
   "id": "7af029a8-ca2f-4c9f-997a-7ae31ac9d0c4",
   "metadata": {},
   "source": [
    "Лекарство оказало влияние на IQ"
   ]
  },
  {
   "cell_type": "code",
   "execution_count": null,
   "id": "6555eb4d-06e1-4dee-9140-82bf40ce5e74",
   "metadata": {},
   "outputs": [],
   "source": []
  }
 ],
 "metadata": {
  "kernelspec": {
   "display_name": "Python 3 (ipykernel)",
   "language": "python",
   "name": "python3"
  },
  "language_info": {
   "codemirror_mode": {
    "name": "ipython",
    "version": 3
   },
   "file_extension": ".py",
   "mimetype": "text/x-python",
   "name": "python",
   "nbconvert_exporter": "python",
   "pygments_lexer": "ipython3",
   "version": "3.12.4"
  }
 },
 "nbformat": 4,
 "nbformat_minor": 5
}
