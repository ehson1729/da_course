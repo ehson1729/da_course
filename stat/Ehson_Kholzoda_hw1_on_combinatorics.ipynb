{
 "cells": [
  {
   "cell_type": "markdown",
   "id": "d58bfdf2-66ef-4351-9e1e-94941d94b92d",
   "metadata": {},
   "source": [
    "# Домашнее задание по комбинаторике\n"
   ]
  },
  {
   "cell_type": "markdown",
   "id": "bbcd8df7-3dd2-40d5-ab88-8c354426312b",
   "metadata": {},
   "source": [
    "## Ehson Kholzoda "
   ]
  },
  {
   "cell_type": "markdown",
   "id": "61afdc1a-e2f2-405c-8265-e66066b91c26",
   "metadata": {},
   "source": [
    "**1.** Макс забыл пароль от своего телефона. Пароль состоял из пяти значений, каждое из которых может быть цифрой от 0 до 9. Сколько всего вариантов должен перебрать Макс, чтобы подобрать пароль к своему телефону?"
   ]
  },
  {
   "cell_type": "code",
   "execution_count": 4,
   "id": "5c43bccd-5f3b-4a9d-a107-056ff94fa400",
   "metadata": {},
   "outputs": [
    {
     "name": "stdout",
     "output_type": "stream",
     "text": [
      "100000\n"
     ]
    }
   ],
   "source": [
    "num_digits = 10\n",
    "num_long = 5\n",
    "\n",
    "num_variants = num_digits ** num_long\n",
    "print(num_variants)"
   ]
  },
  {
   "cell_type": "markdown",
   "id": "002041ea-ef45-4204-97fc-41f50e86125f",
   "metadata": {},
   "source": [
    "**2.** У Малики есть все семь книг серии о Гарри Поттере. Сколькими способами она может расставить эти книги на полке?"
   ]
  },
  {
   "cell_type": "code",
   "execution_count": 10,
   "id": "24953e5d-6c5d-45a8-ba41-dd2c69dc2f48",
   "metadata": {},
   "outputs": [
    {
     "name": "stdout",
     "output_type": "stream",
     "text": [
      "5040\n"
     ]
    }
   ],
   "source": [
    "import math\n",
    "\n",
    "num_polki = 1\n",
    "num_books = 7\n",
    "num_variants = math.factorial(num_books)\n",
    "print(num_variants)"
   ]
  },
  {
   "cell_type": "markdown",
   "id": "6f729d64-d26e-4c90-905a-f89795c86bd9",
   "metadata": {},
   "source": [
    "**3.** На окружности круга размещены 9 точек. Сколько можно провести линий, соединяющих эти точки?"
   ]
  },
  {
   "cell_type": "code",
   "execution_count": 19,
   "id": "fc8a237d-272d-4c1c-b1a1-e1e7f33e1558",
   "metadata": {},
   "outputs": [
    {
     "data": {
      "text/plain": [
       "36.0"
      ]
     },
     "execution_count": 19,
     "metadata": {},
     "output_type": "execute_result"
    }
   ],
   "source": [
    "num_dots = 9\n",
    "num_dots_in_line = 2\n",
    "\n",
    "num_variants = math.factorial(num_dots) / (math.factorial(num_dots_in_line) * math.factorial(num_dots - num_dots_in_line))\n",
    "num_variants"
   ]
  },
  {
   "cell_type": "markdown",
   "id": "41bb90c3-93c4-48af-babf-3f85f02eb8cc",
   "metadata": {},
   "source": [
    "**4.** Транс-Сибирская железнодорожная магистраль тянется от Москвы до Владивостока. Всего, магистраль состоит из 19 станций. На билете указывается станция отбытия и станция пребытия. Сколько всего вариантов билетов существует?"
   ]
  },
  {
   "cell_type": "code",
   "execution_count": 23,
   "id": "3757ceb3-7250-47e7-9503-4ca3f1be956d",
   "metadata": {},
   "outputs": [
    {
     "name": "stdout",
     "output_type": "stream",
     "text": [
      "342.0\n"
     ]
    }
   ],
   "source": [
    "num_stations = 19\n",
    "num_to_pick = 2\n",
    "\n",
    "num_variants = math.factorial(num_stations) / math.factorial(num_stations - num_to_pick)\n",
    "print(num_variants)"
   ]
  },
  {
   "cell_type": "markdown",
   "id": "5438c0ad-2e52-4fa9-ad09-06fea51de91d",
   "metadata": {},
   "source": [
    "**5.** Вы работаете в команде из 13 человек. Ваш менеджер решает рандомно выбрать 3 человек из команды и отправить на конференцию в Анталию, которая будет длится 4 дня. Какова вероятность того, что вам посчастливится поехать на конференцию?"
   ]
  },
  {
   "cell_type": "code",
   "execution_count": 30,
   "id": "50fa12b5-28e5-4c3b-925e-401e279c1885",
   "metadata": {},
   "outputs": [
    {
     "data": {
      "text/plain": [
       "286.0"
      ]
     },
     "execution_count": 30,
     "metadata": {},
     "output_type": "execute_result"
    }
   ],
   "source": [
    "num_of_workers = 13\n",
    "num_of_teams = 3\n",
    "\n",
    "nominator = math.factorial(num_of_workers)\n",
    "denominator = math.factorial(num_of_workers - num_of_teams) * math.factorial(num_of_teams) \n",
    "\n",
    "num_of_possible_outcomes = nominator / denominator\n",
    "num_of_possible_outcomes\n"
   ]
  },
  {
   "cell_type": "code",
   "execution_count": 32,
   "id": "420be082-2153-4128-9f3f-24a8ab6f7700",
   "metadata": {},
   "outputs": [
    {
     "data": {
      "text/plain": [
       "66.0"
      ]
     },
     "execution_count": 32,
     "metadata": {},
     "output_type": "execute_result"
    }
   ],
   "source": [
    "num1 = num_of_workers - 1\n",
    "num2 = num_of_teams - 1\n",
    "\n",
    "desired_nominator = math.factorial(num1)\n",
    "desired_denominator = math.factorial(num2) * math.factorial(num1 - num2)\n",
    "\n",
    "num_of_desired_outcomes = desired_nominator / desired_denominator\n",
    "num_of_desired_outcomes"
   ]
  },
  {
   "cell_type": "code",
   "execution_count": 34,
   "id": "8f28e3ef-8b4d-419d-a66e-68947b4e6677",
   "metadata": {},
   "outputs": [
    {
     "data": {
      "text/plain": [
       "0.23076923076923078"
      ]
     },
     "execution_count": 34,
     "metadata": {},
     "output_type": "execute_result"
    }
   ],
   "source": [
    "p_me_in_team = num_of_desired_outcomes / num_of_possible_outcomes\n",
    "p_me_in_team"
   ]
  },
  {
   "cell_type": "code",
   "execution_count": null,
   "id": "9042fa48-6928-4630-91f6-664b5d279696",
   "metadata": {},
   "outputs": [],
   "source": []
  },
  {
   "cell_type": "code",
   "execution_count": null,
   "id": "e8264d2b-c3d8-41a5-ba0d-18ba53d3293b",
   "metadata": {},
   "outputs": [],
   "source": []
  },
  {
   "cell_type": "code",
   "execution_count": null,
   "id": "b2d79023-3513-4c95-844b-aaf0d4a2d5b6",
   "metadata": {},
   "outputs": [],
   "source": []
  },
  {
   "cell_type": "code",
   "execution_count": null,
   "id": "f1651cb8-22a2-4b0f-85b2-5bfed23647c5",
   "metadata": {},
   "outputs": [],
   "source": []
  },
  {
   "cell_type": "code",
   "execution_count": null,
   "id": "843beaff-fea1-46bb-99da-a78c5dc511ed",
   "metadata": {},
   "outputs": [],
   "source": []
  }
 ],
 "metadata": {
  "kernelspec": {
   "display_name": "Python 3 (ipykernel)",
   "language": "python",
   "name": "python3"
  },
  "language_info": {
   "codemirror_mode": {
    "name": "ipython",
    "version": 3
   },
   "file_extension": ".py",
   "mimetype": "text/x-python",
   "name": "python",
   "nbconvert_exporter": "python",
   "pygments_lexer": "ipython3",
   "version": "3.12.4"
  }
 },
 "nbformat": 4,
 "nbformat_minor": 5
}
