{
 "cells": [
  {
   "cell_type": "markdown",
   "id": "157fbed2-962e-4c27-b672-d27b89309c6d",
   "metadata": {},
   "source": [
    "## Домашнее задание по выборочным распределениям. Ehson Kholzoda"
   ]
  },
  {
   "cell_type": "markdown",
   "id": "14c669a7-f124-4d9e-ba53-ef76e6f46014",
   "metadata": {},
   "source": [
    "**1.** Имеется следующая выборка [6, 8, 11, 11, 17, 21, 34, 35, 41, 42, 43, 46, 54, 54, 59, 62], где каждое наблюдение это возраст человека. Какова точечная оценка среднего значения и стандартного отклонения популяции?"
   ]
  },
  {
   "cell_type": "code",
   "execution_count": 1,
   "id": "a6b6d734-f306-437b-b587-0445fcffa95c",
   "metadata": {},
   "outputs": [
    {
     "name": "stdout",
     "output_type": "stream",
     "text": [
      "34.0 18.580904176062045 19.19027531503044\n"
     ]
    }
   ],
   "source": [
    "import numpy as np\n",
    "ages = np.array([6, 8, 11, 11, 17, 21, 34, 35, 41, 42, 43, 46, 54, 54, 59, 62])\n",
    "\n",
    "print(ages.mean(), ages.std(), ages.std(ddof=1))\n",
    "\n"
   ]
  },
  {
   "cell_type": "markdown",
   "id": "ca6af06b-886c-444d-9fc1-32b8d009c708",
   "metadata": {},
   "source": [
    "**2.** 24% всех производимых шоколадных драже M&M's красятся в синий цвет. В стандартном пакете чаще всего содержится 17 драже. Какова вероятность, что в купленном вами в магазине пакетике, доля синих драже будет больше 40%?"
   ]
  },
  {
   "cell_type": "code",
   "execution_count": 5,
   "id": "5af89330-6143-44a7-b7b4-e285f01a37e8",
   "metadata": {},
   "outputs": [],
   "source": [
    "import numpy as np\n",
    "import pandas as pd\n",
    "from scipy import stats\n",
    "import matplotlib.pyplot as plt\n",
    "import seaborn as sns\n"
   ]
  },
  {
   "cell_type": "code",
   "execution_count": 17,
   "id": "dec1bd7b-4bdf-4cb3-982a-be7e5e8edf2f",
   "metadata": {},
   "outputs": [
    {
     "data": {
      "text/plain": [
       "(0.08467578474501347, 1.3742903225333702, 1.760908856244411)"
      ]
     },
     "execution_count": 17,
     "metadata": {},
     "output_type": "execute_result"
    }
   ],
   "source": [
    "n = 17\n",
    "p = 0.24\n",
    "mu = n * p\n",
    "sigma = (n * p * (1 - p)) ** 0.5\n",
    "\n",
    "z = (6.5 - mu) / sigma\n",
    "\n",
    "P_X_geq_7 = 1 - stats.norm.cdf(z)\n",
    "P_X_geq_7, z, sigma\n",
    "\n"
   ]
  },
  {
   "cell_type": "code",
   "execution_count": 19,
   "id": "33b8413d-1bbb-499f-8f38-15627e79ad44",
   "metadata": {},
   "outputs": [
    {
     "data": {
      "text/plain": [
       "6.800000000000001"
      ]
     },
     "execution_count": 19,
     "metadata": {},
     "output_type": "execute_result"
    }
   ],
   "source": [
    "0.4 * 17"
   ]
  },
  {
   "cell_type": "code",
   "execution_count": 21,
   "id": "3658b21a-d671-40c6-aaf4-d058c44d6cff",
   "metadata": {},
   "outputs": [
    {
     "data": {
      "text/plain": [
       "0.08936193062486864"
      ]
     },
     "execution_count": 21,
     "metadata": {},
     "output_type": "execute_result"
    }
   ],
   "source": [
    "#p_7 = 1 - (p1 + p2 + ... + p6)\n",
    "\n",
    "n = 17\n",
    "p = 0.24\n",
    "p_0=stats.binom.cdf(0, n, p)\n",
    "\n",
    "\n",
    "p_7 = 1 - stats.binom.cdf(6, n, p)\n",
    "p_7"
   ]
  },
  {
   "cell_type": "markdown",
   "id": "f2753f1c-618d-4edc-bbcc-b8689e8ad331",
   "metadata": {},
   "source": [
    "**3.** 64 мужчины были выбраны случайным образом и их веса были измерены. Среднее значение выборки составило 84 кг, а стандартное отклонение - 24 кг. Рассчитайте доверительный интервал для среднего значения популяции с 90%-м уровнем доверия."
   ]
  },
  {
   "cell_type": "code",
   "execution_count": 99,
   "id": "9a99f2e8-c15c-447b-950b-d5f8347d0e7c",
   "metadata": {},
   "outputs": [
    {
     "data": {
      "text/plain": [
       "(79.06543911914558, 88.93456088085442)"
      ]
     },
     "execution_count": 99,
     "metadata": {},
     "output_type": "execute_result"
    }
   ],
   "source": [
    "mu = 84\n",
    "s = 24\n",
    "n = 64\n",
    "\n",
    "beta = 0.9\n",
    "alfa = 1 - beta\n",
    "factor = 1 - alfa/2\n",
    "\n",
    "z = stats.norm.ppf(factor, loc=0, scale=1) #1.645\n",
    "\n",
    "ves_lower = mu - z*s/np.sqrt(n)\n",
    "ves_upper = mu + z*s / np.sqrt(n)\n",
    "\n",
    "ves_lower, ves_upper"
   ]
  },
  {
   "cell_type": "markdown",
   "id": "d93a7747-3c82-4d57-923d-fd2ef2b2198a",
   "metadata": {},
   "source": [
    "**4.** В 2003 году Дартмутская Медицинская Школа запустила исследование для изучения связи между просмотром фильмов с курящими актёрами и началом курения среди подростков. В исследовании были случайным образом отобраны 6522 американских подростка в возрасте 10-14 лет, которые никогда не пробовали курить до этого. Из тех, кто впоследствии попробовал курить впервые, 38% сделали это из-за воздействия курения в фильмах. Оцените долю всех американских подростков в возрасте 10-14 лет, которые начали курить из-за просмотра курящих актеров в фильмах, построив 95% доверительный интервал."
   ]
  },
  {
   "cell_type": "code",
   "execution_count": 95,
   "id": "459ef837-d66a-4ce0-9656-750bc5d2a4c2",
   "metadata": {},
   "outputs": [
    {
     "data": {
      "text/plain": [
       "(0.36821999874165273, 0.3917800012583473)"
      ]
     },
     "execution_count": 95,
     "metadata": {},
     "output_type": "execute_result"
    }
   ],
   "source": [
    "n = 6522\n",
    "p = 0.38\n",
    "\n",
    "beta = 0.95\n",
    "alfa = 1 - beta\n",
    "factor = 1 - alfa/2\n",
    "\n",
    "z = stats.norm.ppf(factor, loc=0, scale=1)\n",
    "\n",
    "se = np.sqrt((p * (1 - p)) / n)\n",
    "\n",
    "\n",
    "lower_bound = p - z*se\n",
    "upper_bound = p + z*se\n",
    "\n",
    "lower_bound, upper_bound"
   ]
  },
  {
   "cell_type": "markdown",
   "id": "c35d2fb2-ee83-49f7-b55d-d6198c0812b6",
   "metadata": {},
   "source": [
    "**5.** 49 женщин, были выбраны случайным образом и их высота была измерена. Среднее значение выборки составило 164 см, стандартное отклонение - 20 см. Рассчитайте доверительный интервал для среднего значения популяции с 95%-м уровнем доверия."
   ]
  },
  {
   "cell_type": "code",
   "execution_count": 103,
   "id": "bea97228-063a-43f6-805b-193fdb958210",
   "metadata": {},
   "outputs": [
    {
     "data": {
      "text/plain": [
       "(158.40010290131414, 169.59989709868586)"
      ]
     },
     "execution_count": 103,
     "metadata": {},
     "output_type": "execute_result"
    }
   ],
   "source": [
    "n = 49\n",
    "mu = 164\n",
    "s = 20\n",
    "\n",
    "beta = 0.95\n",
    "alfa = 1 - beta\n",
    "factor = 1 - alfa/2\n",
    "\n",
    "z = stats.norm.ppf(factor, loc=0, scale=1) #1.956\n",
    "\n",
    "se = s / np.sqrt(n)\n",
    "\n",
    "\n",
    "lower_bound = mu - z*se\n",
    "upper_bound = mu + z*se\n",
    "\n",
    "lower_bound, upper_bound"
   ]
  },
  {
   "cell_type": "code",
   "execution_count": null,
   "id": "d450cfa0-ea20-42c9-b3ab-50473cfcf7ff",
   "metadata": {},
   "outputs": [],
   "source": []
  }
 ],
 "metadata": {
  "kernelspec": {
   "display_name": "Python 3 (ipykernel)",
   "language": "python",
   "name": "python3"
  },
  "language_info": {
   "codemirror_mode": {
    "name": "ipython",
    "version": 3
   },
   "file_extension": ".py",
   "mimetype": "text/x-python",
   "name": "python",
   "nbconvert_exporter": "python",
   "pygments_lexer": "ipython3",
   "version": "3.12.4"
  }
 },
 "nbformat": 4,
 "nbformat_minor": 5
}
