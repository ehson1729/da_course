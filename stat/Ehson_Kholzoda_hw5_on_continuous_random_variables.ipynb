{
 "cells": [
  {
   "cell_type": "markdown",
   "id": "25d87ea7-dbdf-46eb-83fc-4776439a41e1",
   "metadata": {},
   "source": [
    "## Домашнее задание по непрерывным случайным величинам. Эхсон Холзода"
   ]
  },
  {
   "cell_type": "markdown",
   "id": "b1fb1d92-97f3-4201-9f6e-383a1ed289be",
   "metadata": {},
   "source": [
    "Решите следующие задачи:\n",
    "\n",
    "**1.** Есть переменная X с нормальным распределением. Если стандартизированное значение X равно 1.27 (z = 1.27), то какова вероятность P(Z≤1.27)?\n"
   ]
  },
  {
   "cell_type": "code",
   "execution_count": 13,
   "id": "74b4e666-0163-404b-b25a-0b820266cda2",
   "metadata": {},
   "outputs": [
    {
     "data": {
      "text/plain": [
       "0.89796"
      ]
     },
     "execution_count": 13,
     "metadata": {},
     "output_type": "execute_result"
    }
   ],
   "source": [
    "z_x = 1.27 \n",
    "\n",
    "p_z = 0.89796 #( по z-таблице). Сначла ищем 1.2 по вертикале и затем 0.07 во горизонтале \n",
    "\n",
    "p_z"
   ]
  },
  {
   "cell_type": "markdown",
   "id": "a97b3f19-a58c-4465-8d2f-71f3dea73421",
   "metadata": {},
   "source": [
    "**2.** Допустим что Z это переменная со стандартным нормальным распределением. Какова вероятность P(−1.76<Z<−1.19)?"
   ]
  },
  {
   "cell_type": "code",
   "execution_count": 17,
   "id": "0638462d-b77e-48a4-8561-17f681eae44f",
   "metadata": {},
   "outputs": [
    {
     "data": {
      "text/plain": [
       "0.07782"
      ]
     },
     "execution_count": 17,
     "metadata": {},
     "output_type": "execute_result"
    }
   ],
   "source": [
    "z1 = -1.19\n",
    "z2 = -1.76\n",
    "\n",
    "p_z1 = .11702 \n",
    "p_z2 = .03920\n",
    "\n",
    "p = p_z1 - p_z2\n",
    "p"
   ]
  },
  {
   "cell_type": "markdown",
   "id": "7e0fffb5-7ece-4452-827b-65d0638f9720",
   "metadata": {},
   "source": [
    "**3.** У 95.45% девушек старших классов, вес находится в диапазоне от 38кг до 52кг. Если предположить, что вес девушек распределён нормально, найдите среднее значение и стандартное отклонение."
   ]
  },
  {
   "cell_type": "code",
   "execution_count": 26,
   "id": "d0eb1b2e-e7d1-4c4c-9761-67ef236ec1af",
   "metadata": {},
   "outputs": [
    {
     "data": {
      "text/plain": [
       "(45.0, 3.5)"
      ]
     },
     "execution_count": 26,
     "metadata": {},
     "output_type": "execute_result"
    }
   ],
   "source": [
    "# 95,45% по правилу трех сигм соответствует второй сигме то есть:\n",
    "\n",
    "#mu - 2*sigma == 38\n",
    "#mu + 2*sigma == 52\n",
    "\n",
    "mu = (38+52) / 2\n",
    "sigma = (52 - mu) / 2\n",
    "\n",
    "mu, sigma"
   ]
  },
  {
   "cell_type": "code",
   "execution_count": null,
   "id": "6cd7b3ca-589e-4a58-a735-74f7475fd81a",
   "metadata": {},
   "outputs": [],
   "source": []
  },
  {
   "cell_type": "markdown",
   "id": "673be6fe-d37a-4ef9-b271-745dc42c0c52",
   "metadata": {},
   "source": [
    "**4.** Длина указательного пальца взрослых мужчин примерно соответствует нормальному распределению, с μ=7.5cm и σ=0.5cm. Какова вероятность того, что длина указательного пальца случайно выбранного мужчины будет в диапазоне от 7.3см до 8,7см?"
   ]
  },
  {
   "cell_type": "code",
   "execution_count": 31,
   "id": "13df6060-6db7-49f6-b600-bbaa244d5612",
   "metadata": {},
   "outputs": [],
   "source": [
    "from scipy.stats import norm"
   ]
  },
  {
   "cell_type": "code",
   "execution_count": 37,
   "id": "579ed050-dc56-4390-9643-0711ccfdc982",
   "metadata": {},
   "outputs": [
    {
     "data": {
      "text/plain": [
       "0.6472242056857281"
      ]
     },
     "execution_count": 37,
     "metadata": {},
     "output_type": "execute_result"
    }
   ],
   "source": [
    "mu = 7.5\n",
    "sigma = 0.5\n",
    "\n",
    "x1 = 8.7\n",
    "x2 = 7.3\n",
    "\n",
    "adult_finger_height = norm(loc=mu, scale=sigma)\n",
    "\n",
    "p_less_than_x1 = adult_finger_height.cdf(x1)\n",
    "p_less_than_x2 = adult_finger_height.cdf(x2)\n",
    "\n",
    "p = p_less_than_x1 - p_less_than_x2\n",
    "p"
   ]
  },
  {
   "cell_type": "markdown",
   "id": "623b3520-abaa-4948-bee8-dbd092286d9d",
   "metadata": {},
   "source": [
    "**5.** IQ человека является нормально распределённой величиной с μ=100 и σ=15. Какова вероятность того, что у случайно выбранного человека IQ будет выше 140?"
   ]
  },
  {
   "cell_type": "code",
   "execution_count": 42,
   "id": "6e60950c-c135-415b-b2da-456a31ad0218",
   "metadata": {},
   "outputs": [
    {
     "data": {
      "text/plain": [
       "0.0038303805675897365"
      ]
     },
     "execution_count": 42,
     "metadata": {},
     "output_type": "execute_result"
    }
   ],
   "source": [
    "mu = 100\n",
    "sigma = 15\n",
    "\n",
    "norm.sf(140, loc=mu, scale=sigma)"
   ]
  },
  {
   "cell_type": "code",
   "execution_count": null,
   "id": "1285d756-dfb8-4cd3-aeb5-a4ddd3b3397f",
   "metadata": {},
   "outputs": [],
   "source": []
  }
 ],
 "metadata": {
  "kernelspec": {
   "display_name": "Python 3 (ipykernel)",
   "language": "python",
   "name": "python3"
  },
  "language_info": {
   "codemirror_mode": {
    "name": "ipython",
    "version": 3
   },
   "file_extension": ".py",
   "mimetype": "text/x-python",
   "name": "python",
   "nbconvert_exporter": "python",
   "pygments_lexer": "ipython3",
   "version": "3.12.4"
  }
 },
 "nbformat": 4,
 "nbformat_minor": 5
}
