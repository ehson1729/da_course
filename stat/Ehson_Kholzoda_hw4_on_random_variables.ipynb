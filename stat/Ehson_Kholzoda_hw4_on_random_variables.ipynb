{
 "cells": [
  {
   "cell_type": "markdown",
   "id": "12c74683-c698-4f8a-b81a-6bc4149231cf",
   "metadata": {},
   "source": [
    "## Random_variables. Ehson Kholzoda"
   ]
  },
  {
   "cell_type": "markdown",
   "id": "8d0bfd72-123f-4ccc-9603-74618a6d79d2",
   "metadata": {},
   "source": [
    "### Домашнее задание по дискретным случайным величинам"
   ]
  },
  {
   "cell_type": "markdown",
   "id": "0522d1e1-8344-473d-8ced-c590f6dec8a7",
   "metadata": {},
   "source": [
    "**1.** Четыре монеты подбрасываются разом. Если переменная X это количество полученных орлов, то чему равен P(X=2)?\n"
   ]
  },
  {
   "cell_type": "code",
   "execution_count": 17,
   "id": "60078cd9-09a8-4f2b-a9b5-b4e980fb97b5",
   "metadata": {},
   "outputs": [
    {
     "data": {
      "text/plain": [
       "(0.375, 6.0)"
      ]
     },
     "execution_count": 17,
     "metadata": {},
     "output_type": "execute_result"
    }
   ],
   "source": [
    "num = 4\n",
    "p_h = 0.5\n",
    "# используем биномиальное распределение \n",
    "\n",
    "c_4_2 = 1*2*3*4 / (1*2) / (1*2)\n",
    "\n",
    "p_x_2 = c_4_2 * p_h**2 * (1-p_h)**2\n",
    "\n",
    "p_x_2"
   ]
  },
  {
   "cell_type": "markdown",
   "id": "d9e4f78a-fc02-4ad0-ac0e-682927ae3444",
   "metadata": {},
   "source": [
    "**2.** Четыре монеты подбрасываются разом. Если переменная X это количество полученных орлов, то чему равен P(X≥1)?\n"
   ]
  },
  {
   "cell_type": "code",
   "execution_count": 26,
   "id": "e539a86e-d6be-4370-929a-beed0eb117e3",
   "metadata": {},
   "outputs": [
    {
     "data": {
      "text/plain": [
       "0.9375"
      ]
     },
     "execution_count": 26,
     "metadata": {},
     "output_type": "execute_result"
    }
   ],
   "source": [
    "c_4_0 = 1\n",
    "\n",
    "p_x_0 = c_4_0 * p_h**0 * (1-p_h)**4\n",
    "\n",
    "p_x_more_1 = 1 - p_x_0\n",
    "\n",
    "p_x_more_1"
   ]
  },
  {
   "cell_type": "markdown",
   "id": "b078cce1-149e-4f47-80db-539c35cf929f",
   "metadata": {},
   "source": [
    "**3.** Вероятность того, что у рандомного человека группа крови А составляет 40%. Выберем случайным образом 4 человек и пусть случайная величина X будет количеством людей с типом крови А. Постройте биномиальное распределение этого эксперимента.\n"
   ]
  },
  {
   "cell_type": "code",
   "execution_count": 29,
   "id": "132154c2-2c5e-48c1-b7c7-82e49078ddfd",
   "metadata": {},
   "outputs": [
    {
     "data": {
      "text/plain": [
       "(0.1296,\n",
       " 0.34559999999999996,\n",
       " 0.3456000000000001,\n",
       " 0.15360000000000004,\n",
       " 0.025600000000000005)"
      ]
     },
     "execution_count": 29,
     "metadata": {},
     "output_type": "execute_result"
    }
   ],
   "source": [
    "p_0 = 24 * 1 / 24 * (0.4)**0 * (0.6)**(4-0)\n",
    "p_1 = 24 * 1 / 6 * (0.4)**1 * (0.6)**(4-1)\n",
    "p_2 = 24 * 1 / 4 * (0.4)**2 * (0.6)**(4-2)\n",
    "p_3 = 24 * 1 / 6 * (0.4)**3 * (0.6)**(4-3)\n",
    "p_4 = 24 * 1 / 24 * (0.4)**4 * (0.6)**(4-4)\n",
    "\n",
    "p_0, p_1, p_2, p_3, p_4"
   ]
  },
  {
   "cell_type": "markdown",
   "id": "6d503d05-0022-4a5d-8b08-92394cfd009f",
   "metadata": {},
   "source": [
    "**4.** Известно, что на сайте компании в час в среднем происходит 10 продаж. Какова вероятность того что в любой выбранный час количество продаж составит 8 штук?"
   ]
  },
  {
   "cell_type": "code",
   "execution_count": 33,
   "id": "6eed7ccf-5e02-4b01-b73b-d3ea2664cb40",
   "metadata": {},
   "outputs": [
    {
     "data": {
      "text/plain": [
       "0.11259978955201749"
      ]
     },
     "execution_count": 33,
     "metadata": {},
     "output_type": "execute_result"
    }
   ],
   "source": [
    "import math\n",
    "lambda_ = 10\n",
    "e = 2.71828\n",
    "k = 8\n",
    "\n",
    "p_8 = lambda_**k*e**(-lambda_) /math.factorial(8)\n",
    "\n",
    "p_8"
   ]
  },
  {
   "cell_type": "markdown",
   "id": "7d711d25-9548-4d07-b3bc-84f038f7a77f",
   "metadata": {},
   "source": [
    "**5.** Игрок в баскетбол исполняет успешно 60% штрафных бросков. Если он выполнит 12 штрафных бросков, какова вероятность того, что он попадёт в цель ровно 10 раз?"
   ]
  },
  {
   "cell_type": "code",
   "execution_count": 43,
   "id": "8e324bd0-3ea3-4c17-949b-9a1429bbfbe6",
   "metadata": {},
   "outputs": [
    {
     "data": {
      "text/plain": [
       "0.06385228185599999"
      ]
     },
     "execution_count": 43,
     "metadata": {},
     "output_type": "execute_result"
    }
   ],
   "source": [
    "n = 12\n",
    "p = 0.6 \n",
    "\n",
    "c_n_10 = math.factorial(12) / math.factorial(10) / math.factorial(n-10) \n",
    "\n",
    "p_x_10 = c_n_10 * p**10 * (1-p)**(n-10)\n",
    "\n",
    "p_x_10"
   ]
  },
  {
   "cell_type": "code",
   "execution_count": null,
   "id": "b178da0e-245f-41c1-83b5-c610e6b1c9d2",
   "metadata": {},
   "outputs": [],
   "source": []
  },
  {
   "cell_type": "code",
   "execution_count": null,
   "id": "d2bb27ba-1a59-4622-aee4-629b6659f2ac",
   "metadata": {},
   "outputs": [],
   "source": []
  },
  {
   "cell_type": "code",
   "execution_count": null,
   "id": "d53a0b66-2c55-43d2-986b-6cf64c73ba2e",
   "metadata": {},
   "outputs": [],
   "source": []
  },
  {
   "cell_type": "code",
   "execution_count": null,
   "id": "9cf406cc-b6b6-4557-a868-0eba0838800d",
   "metadata": {},
   "outputs": [],
   "source": []
  },
  {
   "cell_type": "code",
   "execution_count": null,
   "id": "117d57f7-9163-4921-b1c0-745089b41c72",
   "metadata": {},
   "outputs": [],
   "source": []
  },
  {
   "cell_type": "code",
   "execution_count": null,
   "id": "e352f7a9-e6aa-4b8f-90d9-2494d220af47",
   "metadata": {},
   "outputs": [],
   "source": []
  },
  {
   "cell_type": "code",
   "execution_count": null,
   "id": "e36ddc03-0e67-49ec-8a89-20cac4c93ef5",
   "metadata": {},
   "outputs": [],
   "source": []
  },
  {
   "cell_type": "code",
   "execution_count": null,
   "id": "0f1ea97a-6b9a-4b6a-a14e-71b876d46535",
   "metadata": {},
   "outputs": [],
   "source": []
  },
  {
   "cell_type": "code",
   "execution_count": null,
   "id": "f11accf0-19b3-427a-a6f0-f612bec83a9e",
   "metadata": {},
   "outputs": [],
   "source": []
  },
  {
   "cell_type": "code",
   "execution_count": null,
   "id": "99156dc5-89da-430d-8923-118d0f5835f8",
   "metadata": {},
   "outputs": [],
   "source": []
  },
  {
   "cell_type": "code",
   "execution_count": null,
   "id": "31378fc0-0a99-4e70-b96c-82f9a9ffe1ce",
   "metadata": {},
   "outputs": [],
   "source": []
  }
 ],
 "metadata": {
  "kernelspec": {
   "display_name": "Python 3 (ipykernel)",
   "language": "python",
   "name": "python3"
  },
  "language_info": {
   "codemirror_mode": {
    "name": "ipython",
    "version": 3
   },
   "file_extension": ".py",
   "mimetype": "text/x-python",
   "name": "python",
   "nbconvert_exporter": "python",
   "pygments_lexer": "ipython3",
   "version": "3.12.4"
  }
 },
 "nbformat": 4,
 "nbformat_minor": 5
}
